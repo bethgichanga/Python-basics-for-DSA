{
 "cells": [
  {
   "cell_type": "markdown",
   "id": "b8dd9b8e",
   "metadata": {},
   "source": [
    "# SUMMER SCHOOL PRACTICE"
   ]
  },
  {
   "cell_type": "code",
   "execution_count": 25,
   "id": "2c4ed9a8",
   "metadata": {},
   "outputs": [],
   "source": [
    "# Initialize Otter\n",
    "import otter\n",
    "grader = otter.Notebook(\"DSA2024Test.ipynb\")"
   ]
  },
  {
   "cell_type": "code",
   "execution_count": 21,
   "id": "24f7c783",
   "metadata": {},
   "outputs": [],
   "source": [
    "import pandas as pd\n",
    "import numpy as np\n",
    "%matplotlib inline\n",
    "import otter\n",
    "\n",
    "grader = otter.Notebook()"
   ]
  },
  {
   "cell_type": "code",
   "execution_count": 22,
   "id": "fa024b20",
   "metadata": {},
   "outputs": [],
   "source": [
    "def isValid(s: str) -> bool:\n",
    "    stack = []\n",
    "    mapping = {')': '(', '}': '{', ']': '['}\n",
    "\n",
    "    for char in s:\n",
    "        if char in mapping.values():\n",
    "            stack.append(char)\n",
    "        elif char in mapping.keys():\n",
    "            if not stack or mapping[char] != stack.pop():\n",
    "                return False\n",
    "        else:\n",
    "            return False\n",
    "    return len(stack) == 0\n"
   ]
  },
  {
   "cell_type": "code",
   "execution_count": 26,
   "id": "ebd169a4",
   "metadata": {},
   "outputs": [
    {
     "data": {
      "text/html": [
       "<p><strong><pre style='display: inline;'>q1</pre></strong> passed! 🌟</p>"
      ],
      "text/plain": [
       "q1 results: All test cases passed!"
      ]
     },
     "execution_count": 26,
     "metadata": {},
     "output_type": "execute_result"
    }
   ],
   "source": [
    "grader.check(\"q1\")"
   ]
  },
  {
   "cell_type": "code",
   "execution_count": 27,
   "id": "abfa03ea",
   "metadata": {},
   "outputs": [
    {
     "name": "stdout",
     "output_type": "stream",
     "text": [
      "Number of characters with odd frequencies: 14\n"
     ]
    }
   ],
   "source": [
    "def oddFrequencyCounter(theParagraph):\n",
    "    # Create a dictionary to store character frequencies\n",
    "    char_freq = {}\n",
    "    \n",
    "    # Count frequencies of characters in the paragraph\n",
    "    for char in theParagraph:\n",
    "        if char in char_freq:\n",
    "            char_freq[char] += 1\n",
    "        else:\n",
    "            char_freq[char] = 1\n",
    "    \n",
    "    # Count the number of characters with odd frequencies\n",
    "    odd_count = 0\n",
    "    for freq in char_freq.values():\n",
    "        if freq % 2 != 0:  # If frequency is odd\n",
    "            odd_count += 1\n",
    "    \n",
    "    return odd_count\n",
    "\n",
    "# Test the function\n",
    "theParagraph = \"I am a child of God. God is my Father.\"\n",
    "result = oddFrequencyCounter(theParagraph)\n",
    "print(\"Number of characters with odd frequencies:\", result)  \n"
   ]
  },
  {
   "cell_type": "code",
   "execution_count": 28,
   "id": "65d04ff4",
   "metadata": {},
   "outputs": [
    {
     "data": {
      "text/html": [
       "<p><strong><pre style='display: inline;'>q2</pre></strong> passed! ✨</p>"
      ],
      "text/plain": [
       "q2 results: All test cases passed!"
      ]
     },
     "execution_count": 28,
     "metadata": {},
     "output_type": "execute_result"
    }
   ],
   "source": [
    "grader.check(\"q2\")"
   ]
  },
  {
   "cell_type": "code",
   "execution_count": 52,
   "id": "ad4db88d",
   "metadata": {},
   "outputs": [
    {
     "name": "stdout",
     "output_type": "stream",
     "text": [
      "1\n",
      "9\n",
      "25\n",
      "49\n",
      "81\n",
      "121\n"
     ]
    }
   ],
   "source": [
    "def odd_squares(limit):\n",
    "    odd = 1\n",
    "    for _ in range(limit):\n",
    "        yield odd * odd\n",
    "        odd += 2\n",
    "\n",
    "# Create the generator for the first 6 odd squares\n",
    "theGen = odd_squares(6)\n",
    "\n",
    "# Print the squares of the first 6 odd numbers\n",
    "for square in theGen:\n",
    "    print(square)\n"
   ]
  },
  {
   "cell_type": "code",
   "execution_count": 53,
   "id": "77289337",
   "metadata": {},
   "outputs": [
    {
     "data": {
      "text/html": [
       "<p><strong><pre style='display: inline;'>q3</pre></strong> passed! 🎉</p>"
      ],
      "text/plain": [
       "q3 results: All test cases passed!"
      ]
     },
     "execution_count": 53,
     "metadata": {},
     "output_type": "execute_result"
    }
   ],
   "source": [
    "grader.check(\"q3\")"
   ]
  },
  {
   "cell_type": "code",
   "execution_count": 35,
   "id": "b06f4916",
   "metadata": {},
   "outputs": [
    {
     "name": "stdout",
     "output_type": "stream",
     "text": [
      "[  1   9  25  49  81 121 169 225 289 361]\n"
     ]
    }
   ],
   "source": [
    "def odd_squares_sum(limit):\n",
    "    num = 1\n",
    "    while num <= limit:\n",
    "        yield num * num\n",
    "        num += 2  # Move to the next odd number\n",
    "\n",
    "# Create the generator\n",
    "theGen = odd_squares_sum(20)\n",
    "\n",
    "# Create an empty list to store the squares\n",
    "result_list = []\n",
    "\n",
    "# Generate the squares and store in the list\n",
    "for _ in range(10):  # We want 11 elements to include squares up to 20\n",
    "    result_list.append(next(theGen))\n",
    "\n",
    "# Convert the list to a NumPy array\n",
    "oddSumList = np.array(result_list)\n",
    "\n",
    "print(oddSumList)\n"
   ]
  },
  {
   "cell_type": "code",
   "execution_count": 36,
   "id": "6713b9f1",
   "metadata": {},
   "outputs": [
    {
     "data": {
      "text/html": [
       "<p><strong><pre style='display: inline;'>q4</pre></strong> passed! 🍀</p>"
      ],
      "text/plain": [
       "q4 results: All test cases passed!"
      ]
     },
     "execution_count": 36,
     "metadata": {},
     "output_type": "execute_result"
    }
   ],
   "source": [
    "grader.check(\"q4\")"
   ]
  },
  {
   "cell_type": "code",
   "execution_count": 37,
   "id": "d249918b",
   "metadata": {},
   "outputs": [
    {
     "name": "stdout",
     "output_type": "stream",
     "text": [
      "[(1, 1), (4, 9), (0, 25), (4, 49), (1, 81), (1, 121), (4, 169), (0, 225), (4, 289), (1, 361)]\n"
     ]
    }
   ],
   "source": [
    "import numpy as np\n",
    "\n",
    "def odd_squares_sum(limit):\n",
    "    num = 1\n",
    "    while num <= limit:\n",
    "        yield num * num\n",
    "        num += 2  # Move to the next odd number\n",
    "\n",
    "# Create the generator\n",
    "theGen = odd_squares_sum(20)\n",
    "\n",
    "# Create an empty list to store the squares\n",
    "result_list = []\n",
    "\n",
    "# Generate the squares and store in the list\n",
    "for _ in range(10):  # We want 10 elements to include squares up to 20\n",
    "    result_list.append(next(theGen))\n",
    "\n",
    "# Convert the list to a NumPy array\n",
    "oddSumList = np.array(result_list)\n",
    "\n",
    "# Compute element-wise remainder of oddSumList when divided by 5\n",
    "remainder_list = oddSumList % 5\n",
    "\n",
    "# Merge oddSumList with remainder_list into a list of tuples\n",
    "mergedList = list(zip(remainder_list, oddSumList))\n",
    "\n",
    "print(mergedList)\n"
   ]
  },
  {
   "cell_type": "code",
   "execution_count": 38,
   "id": "f81e747d",
   "metadata": {},
   "outputs": [
    {
     "data": {
      "text/html": [
       "<p><strong><pre style='display: inline;'>q5</pre></strong> passed! 🚀</p>"
      ],
      "text/plain": [
       "q5 results: All test cases passed!"
      ]
     },
     "execution_count": 38,
     "metadata": {},
     "output_type": "execute_result"
    }
   ],
   "source": [
    "grader.check(\"q5\")"
   ]
  },
  {
   "cell_type": "code",
   "execution_count": 40,
   "id": "31f31133",
   "metadata": {},
   "outputs": [
    {
     "name": "stdout",
     "output_type": "stream",
     "text": [
      "7\n"
     ]
    }
   ],
   "source": [
    "def greatest_common_divisor(a, b):\n",
    "    while b != 0:\n",
    "        a, b = b, a % b\n",
    "    return a\n",
    "\n",
    "# Test the function\n",
    "print(greatest_common_divisor(35, 63))  # Output: 5\n",
    "\n"
   ]
  },
  {
   "cell_type": "code",
   "execution_count": 41,
   "id": "8fc231b8",
   "metadata": {},
   "outputs": [
    {
     "data": {
      "text/html": [
       "<p><strong><pre style='display: inline;'>q6</pre></strong> passed! 🌟</p>"
      ],
      "text/plain": [
       "q6 results: All test cases passed!"
      ]
     },
     "execution_count": 41,
     "metadata": {},
     "output_type": "execute_result"
    }
   ],
   "source": [
    "grader.check(\"q6\")"
   ]
  },
  {
   "cell_type": "code",
   "execution_count": 42,
   "id": "5b97bc23",
   "metadata": {},
   "outputs": [
    {
     "name": "stdout",
     "output_type": "stream",
     "text": [
      "3 Nearest Points to [0, 0]:\n",
      "[1, 1]\n",
      "[-2, 0]\n",
      "[-1, 2]\n",
      "\n",
      "3 Nearest Points to [5, 8]:\n",
      "(5, 9)\n",
      "(2, 4)\n",
      "(13, 9)\n"
     ]
    }
   ],
   "source": [
    "def l1_distance(pt1, pt2):\n",
    "   \n",
    "    return np.sum(np.abs(pt1 - pt2))\n",
    "\n",
    "def get_3_nearest(pt, ptlist):\n",
    "     # Calculate distances to all points in the list\n",
    "    distances = [l1_distance(pt, np.array(p)) for p in ptlist]\n",
    "\n",
    "    # Sort the points based on distances\n",
    "    sorted_indices = np.argsort(distances)\n",
    "\n",
    "    # Get the 3 nearest points and sort them by distance\n",
    "    nearest_points = [ptlist[i] for i in sorted_indices[:3]]\n",
    "    nearest_points.sort(key=lambda x: l1_distance(pt, np.array(x)))\n",
    "\n",
    "    return nearest_points\n",
    "\n",
    "# Test the function\n",
    "pt = np.array([0, 0])\n",
    "ptlist = [\n",
    "    [1, 1],\n",
    "    [-1, 2],\n",
    "    [2, -1],\n",
    "    [3, 3],\n",
    "    [-2, 0],\n",
    "]\n",
    "\n",
    "nearest = get_3_nearest(pt, ptlist)\n",
    "print(\"3 Nearest Points to [0, 0]:\")\n",
    "for p in nearest:\n",
    "    print(p)\n",
    "\n",
    "# Additional test case\n",
    "nearest_additional = get_3_nearest((5, 8), [(5, 9), (9, 1), (2, 4), (13, 9), (10, 12)])\n",
    "print(\"\\n3 Nearest Points to [5, 8]:\")\n",
    "for p in nearest_additional:\n",
    "    print(p)"
   ]
  },
  {
   "cell_type": "code",
   "execution_count": 43,
   "id": "63169194",
   "metadata": {
    "scrolled": true
   },
   "outputs": [
    {
     "data": {
      "text/html": [
       "<p><strong><pre style='display: inline;'>q7</pre></strong> passed! 🙌</p>"
      ],
      "text/plain": [
       "q7 results: All test cases passed!"
      ]
     },
     "execution_count": 43,
     "metadata": {},
     "output_type": "execute_result"
    }
   ],
   "source": [
    "grader.check(\"q7\")\n"
   ]
  },
  {
   "cell_type": "code",
   "execution_count": 44,
   "id": "7098dd8d",
   "metadata": {},
   "outputs": [
    {
     "name": "stdout",
     "output_type": "stream",
     "text": [
      "[1 5 9]\n"
     ]
    }
   ],
   "source": [
    "def diagonal_vector(M):\n",
    "    diagonal_entries = np.diagonal(M)\n",
    "    absolute_diagonal = np.absolute(diagonal_entries)\n",
    "    \n",
    "    return absolute_diagonal\n",
    "\n",
    "# Test the function\n",
    "M = np.array([[1, 2, 3],\n",
    "              [4, -5, 6],\n",
    "              [7, 8, -9]])\n",
    "\n",
    "result = diagonal_vector(M)\n",
    "print(result)  # Output: [1 5 9]"
   ]
  },
  {
   "cell_type": "code",
   "execution_count": 45,
   "id": "d26c1ce5",
   "metadata": {},
   "outputs": [
    {
     "data": {
      "text/html": [
       "<p><strong><pre style='display: inline;'>q8</pre></strong> passed! 🙌</p>"
      ],
      "text/plain": [
       "q8 results: All test cases passed!"
      ]
     },
     "execution_count": 45,
     "metadata": {},
     "output_type": "execute_result"
    }
   ],
   "source": [
    "grader.check(\"q8\")"
   ]
  },
  {
   "cell_type": "code",
   "execution_count": 47,
   "id": "b6a8384e",
   "metadata": {},
   "outputs": [
    {
     "name": "stdout",
     "output_type": "stream",
     "text": [
      "[44, 13, 7, 6, 2]\n"
     ]
    }
   ],
   "source": [
    "def flatten_reverse_lists(superlist):\n",
    "    flattened_list = [item for sublist in superlist for item in sublist]\n",
    "    sorted_list = sorted(flattened_list, key=lambda x: x, reverse=True)\n",
    "    \n",
    "    return sorted_list\n",
    "\n",
    "# Test the function\n",
    "result = flatten_reverse_lists([[2, 13, 44], [6, 7]])\n",
    "print(result)  #\n"
   ]
  },
  {
   "cell_type": "code",
   "execution_count": 48,
   "id": "7905d961",
   "metadata": {},
   "outputs": [
    {
     "data": {
      "text/html": [
       "<p><strong><pre style='display: inline;'>q9</pre></strong> passed! 🍀</p>"
      ],
      "text/plain": [
       "q9 results: All test cases passed!"
      ]
     },
     "execution_count": 48,
     "metadata": {},
     "output_type": "execute_result"
    }
   ],
   "source": [
    "grader.check(\"q9\")"
   ]
  },
  {
   "cell_type": "code",
   "execution_count": 49,
   "id": "b57b5c0e",
   "metadata": {},
   "outputs": [
    {
     "data": {
      "text/html": [
       "<div>\n",
       "<style scoped>\n",
       "    .dataframe tbody tr th:only-of-type {\n",
       "        vertical-align: middle;\n",
       "    }\n",
       "\n",
       "    .dataframe tbody tr th {\n",
       "        vertical-align: top;\n",
       "    }\n",
       "\n",
       "    .dataframe thead th {\n",
       "        text-align: right;\n",
       "    }\n",
       "</style>\n",
       "<table border=\"1\" class=\"dataframe\">\n",
       "  <thead>\n",
       "    <tr style=\"text-align: right;\">\n",
       "      <th></th>\n",
       "      <th>flavor</th>\n",
       "      <th>scoops</th>\n",
       "      <th>price</th>\n",
       "    </tr>\n",
       "  </thead>\n",
       "  <tbody>\n",
       "    <tr>\n",
       "      <th>0</th>\n",
       "      <td>white chocolate</td>\n",
       "      <td>1</td>\n",
       "      <td>2.0</td>\n",
       "    </tr>\n",
       "    <tr>\n",
       "      <th>1</th>\n",
       "      <td>vanilla</td>\n",
       "      <td>1</td>\n",
       "      <td>1.5</td>\n",
       "    </tr>\n",
       "    <tr>\n",
       "      <th>2</th>\n",
       "      <td>dark chocolate</td>\n",
       "      <td>2</td>\n",
       "      <td>3.0</td>\n",
       "    </tr>\n",
       "    <tr>\n",
       "      <th>3</th>\n",
       "      <td>strawberry</td>\n",
       "      <td>1</td>\n",
       "      <td>2.0</td>\n",
       "    </tr>\n",
       "    <tr>\n",
       "      <th>4</th>\n",
       "      <td>strawberry</td>\n",
       "      <td>3</td>\n",
       "      <td>4.0</td>\n",
       "    </tr>\n",
       "    <tr>\n",
       "      <th>5</th>\n",
       "      <td>vanilla</td>\n",
       "      <td>2</td>\n",
       "      <td>2.0</td>\n",
       "    </tr>\n",
       "    <tr>\n",
       "      <th>6</th>\n",
       "      <td>mint</td>\n",
       "      <td>1</td>\n",
       "      <td>4.0</td>\n",
       "    </tr>\n",
       "    <tr>\n",
       "      <th>7</th>\n",
       "      <td>mint</td>\n",
       "      <td>2</td>\n",
       "      <td>5.0</td>\n",
       "    </tr>\n",
       "    <tr>\n",
       "      <th>8</th>\n",
       "      <td>white chocolate</td>\n",
       "      <td>3</td>\n",
       "      <td>2.0</td>\n",
       "    </tr>\n",
       "    <tr>\n",
       "      <th>9</th>\n",
       "      <td>dark chocolate</td>\n",
       "      <td>3</td>\n",
       "      <td>3.0</td>\n",
       "    </tr>\n",
       "    <tr>\n",
       "      <th>10</th>\n",
       "      <td>white chocolate</td>\n",
       "      <td>2</td>\n",
       "      <td>2.0</td>\n",
       "    </tr>\n",
       "    <tr>\n",
       "      <th>11</th>\n",
       "      <td>dark chocolate</td>\n",
       "      <td>5</td>\n",
       "      <td>3.0</td>\n",
       "    </tr>\n",
       "  </tbody>\n",
       "</table>\n",
       "</div>"
      ],
      "text/plain": [
       "             flavor  scoops  price\n",
       "0   white chocolate       1    2.0\n",
       "1           vanilla       1    1.5\n",
       "2    dark chocolate       2    3.0\n",
       "3        strawberry       1    2.0\n",
       "4        strawberry       3    4.0\n",
       "5           vanilla       2    2.0\n",
       "6              mint       1    4.0\n",
       "7              mint       2    5.0\n",
       "8   white chocolate       3    2.0\n",
       "9    dark chocolate       3    3.0\n",
       "10  white chocolate       2    2.0\n",
       "11   dark chocolate       5    3.0"
      ]
     },
     "execution_count": 49,
     "metadata": {},
     "output_type": "execute_result"
    }
   ],
   "source": [
    "# Define the data\n",
    "data = {\n",
    "    'flavor': ['white chocolate', 'vanilla', 'dark chocolate', 'strawberry', 'strawberry', \n",
    "               'vanilla', 'mint', 'mint', 'white chocolate', 'dark chocolate', \n",
    "               'white chocolate', 'dark chocolate'],\n",
    "    'scoops': [1, 1, 2, 1, 3, 2, 1, 2, 3, 3, 2, 5],\n",
    "    'price': [2, 1.5, 3, 2, 4, 2, 4, 5, 2, 3, 2, 3]\n",
    "}\n",
    "\n",
    "# Create the DataFrame\n",
    "df = pd.DataFrame(data)\n",
    "\n",
    "# Display the DataFrame\n",
    "df"
   ]
  },
  {
   "cell_type": "code",
   "execution_count": 63,
   "id": "7c6dbf18",
   "metadata": {},
   "outputs": [
    {
     "data": {
      "text/html": [
       "<div>\n",
       "<style scoped>\n",
       "    .dataframe tbody tr th:only-of-type {\n",
       "        vertical-align: middle;\n",
       "    }\n",
       "\n",
       "    .dataframe tbody tr th {\n",
       "        vertical-align: top;\n",
       "    }\n",
       "\n",
       "    .dataframe thead th {\n",
       "        text-align: right;\n",
       "    }\n",
       "</style>\n",
       "<table border=\"1\" class=\"dataframe\">\n",
       "  <thead>\n",
       "    <tr style=\"text-align: right;\">\n",
       "      <th></th>\n",
       "      <th>flavor</th>\n",
       "      <th>scoops</th>\n",
       "      <th>price</th>\n",
       "      <th>total_price</th>\n",
       "    </tr>\n",
       "  </thead>\n",
       "  <tbody>\n",
       "    <tr>\n",
       "      <th>0</th>\n",
       "      <td>white chocolate</td>\n",
       "      <td>1</td>\n",
       "      <td>2.0</td>\n",
       "      <td>2.0</td>\n",
       "    </tr>\n",
       "    <tr>\n",
       "      <th>1</th>\n",
       "      <td>vanilla</td>\n",
       "      <td>1</td>\n",
       "      <td>1.5</td>\n",
       "      <td>1.5</td>\n",
       "    </tr>\n",
       "    <tr>\n",
       "      <th>2</th>\n",
       "      <td>dark chocolate</td>\n",
       "      <td>2</td>\n",
       "      <td>3.0</td>\n",
       "      <td>6.0</td>\n",
       "    </tr>\n",
       "    <tr>\n",
       "      <th>3</th>\n",
       "      <td>strawberry</td>\n",
       "      <td>1</td>\n",
       "      <td>2.0</td>\n",
       "      <td>2.0</td>\n",
       "    </tr>\n",
       "    <tr>\n",
       "      <th>4</th>\n",
       "      <td>strawberry</td>\n",
       "      <td>3</td>\n",
       "      <td>4.0</td>\n",
       "      <td>12.0</td>\n",
       "    </tr>\n",
       "    <tr>\n",
       "      <th>5</th>\n",
       "      <td>vanilla</td>\n",
       "      <td>2</td>\n",
       "      <td>2.0</td>\n",
       "      <td>4.0</td>\n",
       "    </tr>\n",
       "    <tr>\n",
       "      <th>6</th>\n",
       "      <td>mint</td>\n",
       "      <td>1</td>\n",
       "      <td>4.0</td>\n",
       "      <td>4.0</td>\n",
       "    </tr>\n",
       "    <tr>\n",
       "      <th>7</th>\n",
       "      <td>mint</td>\n",
       "      <td>2</td>\n",
       "      <td>5.0</td>\n",
       "      <td>10.0</td>\n",
       "    </tr>\n",
       "    <tr>\n",
       "      <th>8</th>\n",
       "      <td>white chocolate</td>\n",
       "      <td>3</td>\n",
       "      <td>2.0</td>\n",
       "      <td>6.0</td>\n",
       "    </tr>\n",
       "    <tr>\n",
       "      <th>9</th>\n",
       "      <td>dark chocolate</td>\n",
       "      <td>3</td>\n",
       "      <td>3.0</td>\n",
       "      <td>9.0</td>\n",
       "    </tr>\n",
       "    <tr>\n",
       "      <th>10</th>\n",
       "      <td>white chocolate</td>\n",
       "      <td>2</td>\n",
       "      <td>2.0</td>\n",
       "      <td>4.0</td>\n",
       "    </tr>\n",
       "    <tr>\n",
       "      <th>11</th>\n",
       "      <td>dark chocolate</td>\n",
       "      <td>5</td>\n",
       "      <td>3.0</td>\n",
       "      <td>15.0</td>\n",
       "    </tr>\n",
       "  </tbody>\n",
       "</table>\n",
       "</div>"
      ],
      "text/plain": [
       "             flavor  scoops  price  total_price\n",
       "0   white chocolate       1    2.0          2.0\n",
       "1           vanilla       1    1.5          1.5\n",
       "2    dark chocolate       2    3.0          6.0\n",
       "3        strawberry       1    2.0          2.0\n",
       "4        strawberry       3    4.0         12.0\n",
       "5           vanilla       2    2.0          4.0\n",
       "6              mint       1    4.0          4.0\n",
       "7              mint       2    5.0         10.0\n",
       "8   white chocolate       3    2.0          6.0\n",
       "9    dark chocolate       3    3.0          9.0\n",
       "10  white chocolate       2    2.0          4.0\n",
       "11   dark chocolate       5    3.0         15.0"
      ]
     },
     "execution_count": 63,
     "metadata": {},
     "output_type": "execute_result"
    }
   ],
   "source": [
    "\n",
    "\n",
    "# Define the data\n",
    "data = {\n",
    "    'flavor': ['white chocolate', 'vanilla', 'dark chocolate', 'strawberry', 'strawberry', \n",
    "               'vanilla', 'mint', 'mint', 'white chocolate', 'dark chocolate', \n",
    "               'white chocolate', 'dark chocolate'],\n",
    "    'scoops': [1, 1, 2, 1, 3, 2, 1, 2, 3, 3, 2, 5],\n",
    "    'price': [2, 1.5, 3, 2, 4, 2, 4, 5, 2, 3, 2, 3]\n",
    "}\n",
    "\n",
    "# Create the DataFrame\n",
    "df = pd.DataFrame(data)\n",
    "\n",
    "# Create the new column 'total_price' by multiplying 'scoops' and 'price'\n",
    "df['total_price'] = df['scoops'] * df['price']\n",
    "\n",
    "# Display the updated DataFrame\n",
    "df\n"
   ]
  },
  {
   "cell_type": "code",
   "execution_count": 50,
   "id": "faac6c60",
   "metadata": {
    "scrolled": false
   },
   "outputs": [
    {
     "name": "stdout",
     "output_type": "stream",
     "text": [
      "Statistics for 'white chocolate':\n",
      "[4. 4. 2. 2.]\n",
      "\n",
      "Statistics for 'vanilla':\n",
      "[2.75 2.75 1.5  1.77]\n",
      "\n",
      "Statistics for 'dark chocolate':\n",
      "[10.    9.    6.    4.58]\n",
      "\n",
      "Statistics for 'strawberry':\n",
      "[7.   7.   2.   7.07]\n",
      "\n",
      "Statistics for 'mint':\n",
      "[7.   7.   4.   4.24]\n"
     ]
    }
   ],
   "source": [
    "import pandas as pd\n",
    "import numpy as np\n",
    "\n",
    "def groupStatistics(data, groupValue):\n",
    "   \n",
    "    # Convert list of dictionaries to a Pandas DataFrame\n",
    "    df = pd.DataFrame(data)\n",
    "    \n",
    "    # Convert 'scoops' and 'price' columns to float\n",
    "    df['scoops'] = df['scoops'].astype(float)\n",
    "    df['price'] = df['price'].astype(float)\n",
    "    \n",
    "    # Create the 'total_price' column by multiplying 'scoops' and 'price'\n",
    "    df['total_price'] = df['scoops'] * df['price']\n",
    "    \n",
    "    # Group the data by 'flavor'\n",
    "    grouped_data = df.groupby('flavor')\n",
    "    \n",
    "    try:\n",
    "        # Get the group specified by 'groupValue'\n",
    "        group = grouped_data.get_group(groupValue)\n",
    "        \n",
    "        # Calculate the statistics\n",
    "        mean = round(group['total_price'].mean(), 2)\n",
    "        median = round(group['total_price'].median(), 2)\n",
    "        min_val = round(group['total_price'].min(), 2)\n",
    "        max_val = round(group['total_price'].max(), 2)\n",
    "        std = round(group['total_price'].std(), 2)  # Round std to 2 decimal places\n",
    "        \n",
    "        # Create a numpy array with the statistics\n",
    "        stats_array = np.array([mean, median, min_val, std])\n",
    "        \n",
    "        return stats_array\n",
    "    except KeyError:\n",
    "        print(f\"Group '{groupValue}' not found.\")\n",
    "        return np.array([np.nan, np.nan, np.nan, np.nan])\n",
    "\n",
    "# Test the function\n",
    "data = [\n",
    "    {'flavor': 'white chocolate', 'scoops': 1, 'price': 2},\n",
    "    {'flavor': 'vanilla', 'scoops': 1, 'price': 1.5},\n",
    "    {'flavor': 'dark chocolate', 'scoops': 2, 'price': 3},\n",
    "    {'flavor': 'strawberry', 'scoops': 1, 'price': 2},\n",
    "    {'flavor': 'strawberry', 'scoops': 3, 'price': 4},\n",
    "    {'flavor': 'vanilla', 'scoops': 2, 'price': 2},\n",
    "    {'flavor': 'mint', 'scoops': 1, 'price': 4},\n",
    "    {'flavor': 'mint', 'scoops': 2, 'price': 5},\n",
    "    {'flavor': 'white chocolate', 'scoops': 3, 'price': 2},\n",
    "    {'flavor': 'dark chocolate', 'scoops': 3, 'price': 3},\n",
    "    {'flavor': 'white chocolate', 'scoops': 2, 'price': 2},\n",
    "    {'flavor': 'dark chocolate', 'scoops': 5, 'price': 3}\n",
    "]\n",
    "\n",
    "# Calculate statistics for 'white chocolate'\n",
    "stats_white_choc = groupStatistics(data, 'white chocolate')\n",
    "print(\"Statistics for 'white chocolate':\")\n",
    "print(stats_white_choc)\n",
    "\n",
    "# Calculate statistics for 'vanilla'\n",
    "stats_vanilla = groupStatistics(data, 'vanilla')\n",
    "print(\"\\nStatistics for 'vanilla':\")\n",
    "print(stats_vanilla)\n",
    "\n",
    "# Calculate statistics for 'dark chocolate'\n",
    "stats_dark_choc = groupStatistics(data, 'dark chocolate')\n",
    "print(\"\\nStatistics for 'dark chocolate':\")\n",
    "print(stats_dark_choc)\n",
    "\n",
    "# Calculate statistics for 'strawberry'\n",
    "stats_strawberry = groupStatistics(data, 'strawberry')\n",
    "print(\"\\nStatistics for 'strawberry':\")\n",
    "print(stats_strawberry)\n",
    "\n",
    "# Calculate statistics for 'mint'\n",
    "stats_mint = groupStatistics(data, 'mint')\n",
    "print(\"\\nStatistics for 'mint':\")\n",
    "print(stats_mint)\n"
   ]
  },
  {
   "cell_type": "code",
   "execution_count": 51,
   "id": "e54e4acb",
   "metadata": {},
   "outputs": [
    {
     "data": {
      "text/html": [
       "<p><strong><pre style='display: inline;'>q11</pre></strong> passed! 🎉</p>"
      ],
      "text/plain": [
       "q11 results: All test cases passed!"
      ]
     },
     "execution_count": 51,
     "metadata": {},
     "output_type": "execute_result"
    }
   ],
   "source": [
    "grader.check(\"q11\")"
   ]
  },
  {
   "cell_type": "code",
   "execution_count": 54,
   "id": "73f35c1d",
   "metadata": {},
   "outputs": [
    {
     "data": {
      "text/html": [
       "\n",
       "                    <p>\n",
       "                        Your submission has been exported. Click\n",
       "                        <a href=\"DSA2024Test_2024_02_25T13_34_59_064485.zip\" download=\"DSA2024Test_2024_02_25T13_34_59_064485.zip\" target=\"_blank\">here</a> to download\n",
       "                        the zip file.\n",
       "                    </p>\n",
       "                "
      ],
      "text/plain": [
       "<IPython.core.display.HTML object>"
      ]
     },
     "metadata": {},
     "output_type": "display_data"
    }
   ],
   "source": [
    "# Save your notebook first, then run this cell to export your submission.\n",
    "grader.export(pdf=False)"
   ]
  },
  {
   "cell_type": "code",
   "execution_count": null,
   "id": "23169c3d",
   "metadata": {},
   "outputs": [],
   "source": []
  }
 ],
 "metadata": {
  "kernelspec": {
   "display_name": "Python 3 (ipykernel)",
   "language": "python",
   "name": "python3"
  },
  "language_info": {
   "codemirror_mode": {
    "name": "ipython",
    "version": 3
   },
   "file_extension": ".py",
   "mimetype": "text/x-python",
   "name": "python",
   "nbconvert_exporter": "python",
   "pygments_lexer": "ipython3",
   "version": "3.11.4"
  }
 },
 "nbformat": 4,
 "nbformat_minor": 5
}
